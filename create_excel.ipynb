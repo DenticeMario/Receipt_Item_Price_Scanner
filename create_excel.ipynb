{
 "cells": [
  {
   "cell_type": "code",
   "execution_count": null,
   "id": "26dfb882",
   "metadata": {},
   "outputs": [],
   "source": [
    "# extract the necessary information on items, amounts, and prices from text object and put it into a dataframe\n",
    "def create_excel_from_dataframes(df):\n",
    "    excel_name = 'Price_Comparison.xlsx'\n",
    "    sheet_name = 'sheet_1'\n",
    "    \n",
    "    # read source excel file into first dataframe\n",
    "    df_source = pd.DataFrame(pd.read_excel(excel_name, sheet_name=sheet_name))\n",
    "    \n",
    "    # combine first dataframe with new dataframe\n",
    "    df_final = df_source.append(df, sort=False)\n",
    "    \n",
    "    # creater writer object to write in file\n",
    "    writer = pd.ExcelWriter(excel_name)\n",
    "    df_final.to_excel(writer, sheet_name=sheet_name, index=False)\n",
    "\n",
    "    # set the column width in excel to autofit the content\n",
    "    for column in df:\n",
    "        column_length = max(df[column].astype(str).map(len).max(), len(column))\n",
    "        column_index = df.columns.get_loc(column)\n",
    "        writer.sheets[sheet_name].set_column(column_index, column_index, column_length)\n",
    "\n",
    "    writer.save()"
   ]
  }
 ],
 "metadata": {
  "kernelspec": {
   "display_name": "Python 3",
   "language": "python",
   "name": "python3"
  },
  "language_info": {
   "codemirror_mode": {
    "name": "ipython",
    "version": 3
   },
   "file_extension": ".py",
   "mimetype": "text/x-python",
   "name": "python",
   "nbconvert_exporter": "python",
   "pygments_lexer": "ipython3",
   "version": "3.8.8"
  }
 },
 "nbformat": 4,
 "nbformat_minor": 5
}
