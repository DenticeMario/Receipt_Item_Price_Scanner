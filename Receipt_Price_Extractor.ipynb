{
 "cells": [
  {
   "cell_type": "code",
   "execution_count": 1,
   "id": "f230fad5",
   "metadata": {},
   "outputs": [],
   "source": [
    "%run -i convert_to_dataframe_function.ipynb\n",
    "%run -i create_excel.ipynb\n",
    "\n",
    "# import necessary libraries and modules\n",
    "from PIL import Image\n",
    "from pytesseract import pytesseract\n",
    "import re\n",
    "import os\n",
    "import pandas as pd\n",
    "import numpy as np\n",
    "\n",
    "# set name of file and concatenate with the correct directory\n",
    "file_name = '220128_1_foodhall.jpeg'\n",
    "image_path = os.path.join(r'C:\\Users\\denti\\python\\OpticalCharacterRecognition\\receipts', file_name)\n",
    "# set path to tesseract.exe, which is fix and is necessary for pytesseract module to work\n",
    "# tesseract has to be installed prior to using this code\n",
    "path_to_tesseract = r'C:\\Program Files\\Tesseract-OCR\\tesseract.exe'\n",
    "\n",
    "# convert image to text using tesseract\n",
    "img = Image.open(image_path)\n",
    "pytesseract.tesseract_cmd = path_to_tesseract\n",
    "text = pytesseract.image_to_string(img).replace('X','x').replace('*','x').replace('%','x')"
   ]
  },
  {
   "cell_type": "code",
   "execution_count": 3,
   "id": "e7fa897a",
   "metadata": {},
   "outputs": [],
   "source": [
    "df = convert_text_to_dataframe_foodhall(text)\n",
    "#df = convert_text_to_dataframe_family_mart(text)\n",
    "create_excel_from_dataframes(df)"
   ]
  },
  {
   "cell_type": "code",
   "execution_count": null,
   "id": "64ef9ce8",
   "metadata": {},
   "outputs": [],
   "source": []
  }
 ],
 "metadata": {
  "kernelspec": {
   "display_name": "Python 3",
   "language": "python",
   "name": "python3"
  },
  "language_info": {
   "codemirror_mode": {
    "name": "ipython",
    "version": 3
   },
   "file_extension": ".py",
   "mimetype": "text/x-python",
   "name": "python",
   "nbconvert_exporter": "python",
   "pygments_lexer": "ipython3",
   "version": "3.8.8"
  }
 },
 "nbformat": 4,
 "nbformat_minor": 5
}
